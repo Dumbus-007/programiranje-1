{
 "cells": [
  {
   "cell_type": "markdown",
   "metadata": {
    "vscode": {
     "languageId": "ocaml"
    }
   },
   "source": [
    "# 4. domača naloga"
   ]
  },
  {
   "cell_type": "markdown",
   "metadata": {},
   "source": [
    "Pri tej nalogi boste napisali svoj simulator Turingovih strojev. Zaradi preprostosti bomo za abecedo vzeli kar znake tipa `char`, za prazni znak bomo izbrali presledek `' '`, stanja pa bomo predstavili z nizi. Za možne premike zafiksiramo tip `direction`:"
   ]
  },
  {
   "cell_type": "code",
   "execution_count": 1,
   "metadata": {
    "vscode": {
     "languageId": "ocaml"
    }
   },
   "outputs": [
    {
     "data": {
      "text/plain": [
       "type direction = Left | Right\n"
      ]
     },
     "execution_count": 1,
     "metadata": {},
     "output_type": "execute_result"
    },
    {
     "data": {
      "text/plain": [
       "type state = string\n"
      ]
     },
     "execution_count": 1,
     "metadata": {},
     "output_type": "execute_result"
    }
   ],
   "source": [
    "type direction = Left | Right\n",
    "type state = string"
   ]
  },
  {
   "cell_type": "markdown",
   "metadata": {},
   "source": [
    "## Implementacija trakov"
   ]
  },
  {
   "cell_type": "markdown",
   "metadata": {},
   "source": [
    "Napišite modul `Tape`, ki implementira spodnjo signaturo, kjer je:\n",
    "\n",
    "- `t` tip v obe smeri neomejenih trakov in glavo na danem mestu;\n",
    "- `make`, ki naredi nov trak z znaki iz niza ter glavo na prvem znaku;\n",
    "- `read`, ki vrne znak pod glavo;\n",
    "- `write`, ki pod glavo zapiše dani znak;\n",
    "- `move`, ki glavo premakne v dano smer;\n",
    "- `print`, ki izpiše vsebino traku (brez presledkov na začetku in koncu) ter pod njim z `^` označi mesto glave.\n",
    "\n",
    "Zadnji dve funkciji naj vrneta nov trak, obstoječega pa naj pustita nespremenjenega.\n",
    "\n",
    "Ker je tip `t` abstrakten, si lahko privoščite poljubno implementacijo, zato poskrbite tako za učinkovitost kot za preglednost kode."
   ]
  },
  {
   "cell_type": "code",
   "execution_count": 2,
   "metadata": {
    "vscode": {
     "languageId": "ocaml"
    }
   },
   "outputs": [
    {
     "data": {
      "text/plain": [
       "module type TAPE =\n",
       "  sig\n",
       "    type t\n",
       "    val make : string -> t\n",
       "    val move : direction -> t -> t\n",
       "    val read : t -> char\n",
       "    val write : char -> t -> t\n",
       "    val print : t -> unit\n",
       "  end\n"
      ]
     },
     "execution_count": 2,
     "metadata": {},
     "output_type": "execute_result"
    }
   ],
   "source": [
    "module type TAPE = sig\n",
    "  type t\n",
    "\n",
    "  val make : string -> t\n",
    "  val move : direction -> t -> t\n",
    "  val read : t -> char\n",
    "  val write : char -> t -> t\n",
    "  val print : t -> unit\n",
    "end"
   ]
  },
  {
   "cell_type": "code",
   "execution_count": 3,
   "metadata": {
    "vscode": {
     "languageId": "ocaml"
    }
   },
   "outputs": [
    {
     "data": {
      "text/plain": [
       "module Tape : TAPE\n"
      ]
     },
     "execution_count": 3,
     "metadata": {},
     "output_type": "execute_result"
    }
   ],
   "source": [
    "module Tape: TAPE = struct\n",
    "  \n",
    "  type t = {levo: char list; glava: char; desno: char list}\n",
    "\n",
    "  let str_to_char_list s =\n",
    "    List.init (String.length s) (String.get s)\n",
    "  \n",
    "  let make: string -> t =\n",
    "    fun niz -> \n",
    "      let sez = str_to_char_list niz in\n",
    "      match sez with\n",
    "      |[] -> {levo = []; glava = ' '; desno = []}\n",
    "      |x::xs -> {levo = []; glava = x; desno = xs}\n",
    "  \n",
    "  let move: direction -> t -> t =\n",
    "      fun smer {levo=xs; glava = a; desno = ys} ->\n",
    "        match smer with\n",
    "        |Left -> \n",
    "          (match List.rev xs with\n",
    "          |[] -> {levo = []; glava = ' '; desno = a::ys}\n",
    "          |x::xs' -> {levo = List.rev xs'; glava = x; desno = a::ys})\n",
    "        |Right ->\n",
    "          (match ys with\n",
    "          |[] -> {levo = List.rev (a:: (List.rev xs)); glava = ' '; desno = []}\n",
    "          |y::ys' -> {levo = List.rev (a:: (List.rev xs)); glava = y; desno = ys'})\n",
    "  \n",
    "  let read: t -> char = \n",
    "    fun {levo=xs; glava= a; desno= ys} -> a\n",
    "  \n",
    "  let write: char -> t -> t = \n",
    "  fun b {levo=xs; glava= a; desno= ys} -> {levo=xs; glava= b; desno= ys}\n",
    "\n",
    "  let rec spucej_presledke sez =\n",
    "    match sez with\n",
    "    | x::xs when x = ' ' -> spucej_presledke xs\n",
    "    |_ -> sez\n",
    "\n",
    "  let print: t -> unit = \n",
    "    fun {levo=xs; glava= a; desno= ys} ->\n",
    "      let levi_str = String.of_seq (List.to_seq (spucej_presledke xs)) in\n",
    "      let desni_str = String.of_seq (List.to_seq ys) in\n",
    "      let za_printat = levi_str ^ String.make 1 a ^ desni_str in\n",
    "      let pozicija = List.length (spucej_presledke xs) in\n",
    "    Printf.printf \"%s\\n%s\\n\" za_printat (String.make pozicija ' ' ^ \"^\");\n",
    "    flush stdout\n",
    "\n",
    "end"
   ]
  },
  {
   "cell_type": "code",
   "execution_count": 9,
   "metadata": {
    "vscode": {
     "languageId": "ocaml"
    }
   },
   "outputs": [
    {
     "name": "stdout",
     "output_type": "stream",
     "text": [
      "  AB!DE\n",
      "    ^\n"
     ]
    },
    {
     "data": {
      "text/plain": [
       "val primer_trak : unit = ()\n"
      ]
     },
     "execution_count": 9,
     "metadata": {},
     "output_type": "execute_result"
    }
   ],
   "source": [
    "let primer_trak = Tape.(\n",
    "  make \"ABCDE\"\n",
    "  |> move Left\n",
    "  |> move Left\n",
    "  |> move Right\n",
    "  |> move Right\n",
    "  |> move Right\n",
    "  |> move Right\n",
    "  |> write '!'\n",
    "  |> print\n",
    ")"
   ]
  },
  {
   "cell_type": "markdown",
   "metadata": {
    "vscode": {
     "languageId": "ocaml"
    }
   },
   "source": [
    "## Implementacija Turingovih strojev"
   ]
  },
  {
   "cell_type": "markdown",
   "metadata": {},
   "source": [
    "Napišite modul `Machine`, ki implementira spodnjo signaturo, kjer je:\n",
    "\n",
    "- `t` tip Turingovih strojev;\n",
    "- `make`, ki naredi nov stroj z danim začetnim stanjem in seznamom preostalih stanj ter prazno prehodno funkcijo;\n",
    "- `initial`, ki vrne začetno stanje stroja;\n",
    "- `add_transition`, ki prehodno funkcijo razširi s prehodom $(q, a) \\mapsto (q', a', d)$;\n",
    "- `step`, ki za dano stanje in trak izvede en korak stroja, če je to mogoče.\n",
    "\n",
    "Zadnji dve funkciji naj vrneta spremenjene vrednosti, obstoječe argumente pa naj pustita nespremenjene. Prav tako pri zadnjih dveh funkcijah lahko predpostavite, da ju bomo klicali le na poprej podanih stanjih.\n",
    "\n",
    "Tudi tu je tip `t` abstrakten, zato poskrbite za učinkovitost in preglednost kode."
   ]
  },
  {
   "cell_type": "code",
   "execution_count": 30,
   "metadata": {
    "vscode": {
     "languageId": "ocaml"
    }
   },
   "outputs": [
    {
     "data": {
      "text/plain": [
       "module type MNOZICA =\n",
       "  sig\n",
       "    type 'a t\n",
       "    val vsebuje : 'a t -> 'a -> bool\n",
       "    val prazna : 'a t\n",
       "    val velikost : 'a t -> int\n",
       "    val dodaj : 'a -> 'a t -> 'a t\n",
       "    val razdeli : 'a t -> ('a t * 'a * 'a t) option\n",
       "  end\n"
      ]
     },
     "execution_count": 30,
     "metadata": {},
     "output_type": "execute_result"
    }
   ],
   "source": [
    "module type MNOZICA = sig\n",
    "  type 'a t\n",
    "\n",
    "  val vsebuje : 'a t -> 'a -> bool\n",
    "  val prazna : 'a t\n",
    "  val velikost : 'a t -> int\n",
    "  val dodaj : 'a -> 'a t -> 'a t\n",
    "  val razdeli: 'a t -> ('a t * 'a * 'a t) option\n",
    "end"
   ]
  },
  {
   "cell_type": "code",
   "execution_count": 31,
   "metadata": {
    "vscode": {
     "languageId": "ocaml"
    }
   },
   "outputs": [
    {
     "data": {
      "text/plain": [
       "module MnozicaPrekPravilnoImplementiranihAVLDreves : MNOZICA\n"
      ]
     },
     "execution_count": 31,
     "metadata": {},
     "output_type": "execute_result"
    }
   ],
   "source": [
    "module MnozicaPrekPravilnoImplementiranihAVLDreves : MNOZICA = struct\n",
    "  type 'a t = Prazno | Sestavljeno of int * 'a t * 'a * 'a t\n",
    "\n",
    "  let rec vsebuje mn x =\n",
    "    match mn with\n",
    "    | Prazno -> false\n",
    "    | Sestavljeno (_, l, y, d) when x = y -> true\n",
    "    | Sestavljeno (_, l, y, d) when x < y -> vsebuje l x\n",
    "    | Sestavljeno (_, l, y, d) when x > y -> vsebuje d x\n",
    "    | _ -> assert false\n",
    "\n",
    "  let prazna = Prazno\n",
    "\n",
    "  let rec velikost = function\n",
    "    | Prazno -> 0\n",
    "    | Sestavljeno (_, l, _, d) -> 1 + velikost l + velikost d\n",
    "\n",
    "  let visina drevo =\n",
    "    match drevo with\n",
    "    | Prazno -> 0\n",
    "    | Sestavljeno (h, _, _, _) -> h\n",
    "\n",
    "  let sestavljeno (l, x, d) =\n",
    "    Sestavljeno (1 + max (visina l) (visina d), l, x, d)\n",
    "\n",
    "  let zavrti_levo = function\n",
    "    | Sestavljeno (_, l, x, Sestavljeno (_, dl, y, dd)) ->\n",
    "        sestavljeno (sestavljeno (l, x, dl), y, dd)\n",
    "    | _ -> failwith \"Tega drevesa ne morem zavrteti\"\n",
    "\n",
    "  let zavrti_desno = function\n",
    "    | Sestavljeno (_, Sestavljeno (_, ll, y, ld), x, d) ->\n",
    "        sestavljeno (ll, y, sestavljeno (ld, x, d))\n",
    "    | _ -> failwith \"Tega drevesa ne morem zavrteti\"\n",
    "\n",
    "  let razlika = function\n",
    "    | Prazno -> 0\n",
    "    | Sestavljeno (_, l, _, d) -> visina l - visina d\n",
    "\n",
    "  let uravnotezi drevo =\n",
    "    match drevo with\n",
    "    | Sestavljeno (_, l, x, d) when razlika drevo = 2 && razlika l = 1 ->\n",
    "        zavrti_desno drevo\n",
    "    | Sestavljeno (_, l, x, d) when razlika drevo = 2 ->\n",
    "        sestavljeno (zavrti_levo l, x, d) |> zavrti_desno\n",
    "    | Sestavljeno (_, l, x, d) when razlika drevo = -2 && razlika d = -1 ->\n",
    "        zavrti_levo drevo\n",
    "    | Sestavljeno (_, l, x, d) when razlika drevo = -2 ->\n",
    "        sestavljeno (l, x, zavrti_desno d) |> zavrti_levo\n",
    "    | _ -> drevo\n",
    "\n",
    "  let rec isci x drevo =\n",
    "    match drevo with\n",
    "    | Prazno -> false\n",
    "    | Sestavljeno (_, l, vrednost, d) ->\n",
    "        if x < vrednost then isci x l\n",
    "        else if x > vrednost then isci x d\n",
    "        else true\n",
    "\n",
    "  let rec dodaj x drevo =\n",
    "    match drevo with\n",
    "    | Prazno -> Sestavljeno (1, Prazno, x, Prazno)\n",
    "    | Sestavljeno (h, l, vrednost, d) ->\n",
    "        if x < vrednost then sestavljeno (dodaj x l, vrednost, d) |> uravnotezi\n",
    "        else if x > vrednost then\n",
    "          sestavljeno (l, vrednost, dodaj x d) |> uravnotezi\n",
    "        else drevo\n",
    "\n",
    "  let razdeli = function\n",
    "  | Sestavljeno (_, l, x, d) -> Some (l, x, d)\n",
    "  | Prazno -> None\n",
    "end\n"
   ]
  },
  {
   "cell_type": "code",
   "execution_count": 6,
   "metadata": {
    "vscode": {
     "languageId": "ocaml"
    }
   },
   "outputs": [
    {
     "data": {
      "text/plain": [
       "module type MACHINE =\n",
       "  sig\n",
       "    type t\n",
       "    val make : state -> state list -> t\n",
       "    val initial : t -> state\n",
       "    val add_transition :\n",
       "      state -> char -> state -> char -> direction -> t -> t\n",
       "    val step : t -> state -> Tape.t -> (state * Tape.t) option\n",
       "  end\n"
      ]
     },
     "execution_count": 6,
     "metadata": {},
     "output_type": "execute_result"
    }
   ],
   "source": [
    "module type MACHINE = sig\n",
    "  type t\n",
    "  val make : state -> state list -> t\n",
    "  val initial : t -> state\n",
    "  val add_transition : state -> char -> state -> char -> direction -> t -> t\n",
    "  val step : t -> state -> Tape.t -> (state * Tape.t) option\n",
    "end"
   ]
  },
  {
   "cell_type": "code",
   "execution_count": null,
   "metadata": {
    "vscode": {
     "languageId": "ocaml"
    }
   },
   "outputs": [
    {
     "data": {
      "text/plain": [
       "module Machine : MACHINE\n"
      ]
     },
     "execution_count": 32,
     "metadata": {},
     "output_type": "execute_result"
    }
   ],
   "source": [
    "module Machine : MACHINE = struct\n",
    "  type transition_key = state * char\n",
    "  type transition_value = state * char * direction\n",
    "\n",
    "  (* AVL drevo za prehode *)\n",
    "  module Transitions = struct\n",
    "    include MnozicaPrekPravilnoImplementiranihAVLDreves\n",
    "  end\n",
    "\n",
    "  (* stroj *)\n",
    "  type t = {\n",
    "    zacetno_stanje: state;\n",
    "    stanja: state list;\n",
    "    prehodi: (transition_key * transition_value) Transitions.t;\n",
    "  }\n",
    "\n",
    "\n",
    "  let make zacetek stanja =\n",
    "    { zacetno_stanje = zacetek; stanja = stanja; prehodi = Transitions.prazna }\n",
    "\n",
    "\n",
    "  let initial m = m.zacetno_stanje\n",
    "\n",
    "\n",
    "  let add_transition q a q' a' d m =\n",
    "    let nov_prehod = ((q, a), (q', a', d)) in\n",
    "    let novi_prehodi = Transitions.dodaj nov_prehod m.prehodi in\n",
    "    { m with prehodi = novi_prehodi }\n",
    "\n",
    "\n",
    "  (* Poišči prehod *)\n",
    "  let rec find_transition key prehodi =\n",
    "    match Transitions.razdeli prehodi with\n",
    "    | None -> None\n",
    "    | Some (l, (k, v), d) ->\n",
    "        if key < k then find_transition key l\n",
    "        else if key > k then find_transition key d\n",
    "        else Some v\n",
    "\n",
    "\n",
    "  let step m stanje trak =\n",
    "    match find_transition (stanje, Tape.read trak) m.prehodi with\n",
    "    | None -> None\n",
    "    | Some (novo_stanje, nov_znak, smer) ->\n",
    "        let nov_trak = Tape.write nov_znak trak |> Tape.move smer in\n",
    "        Some (novo_stanje, nov_trak)\n",
    "   \n",
    "end\n"
   ]
  },
  {
   "cell_type": "markdown",
   "metadata": {
    "vscode": {
     "languageId": "ocaml"
    }
   },
   "source": [
    "Primer stroja \"Binary Increment\" na <http://turingmachine.io> lahko implementiramo kot:"
   ]
  },
  {
   "cell_type": "code",
   "execution_count": 33,
   "metadata": {
    "vscode": {
     "languageId": "ocaml"
    }
   },
   "outputs": [
    {
     "data": {
      "text/plain": [
       "val binary_increment : Machine.t = <abstr>\n"
      ]
     },
     "execution_count": 33,
     "metadata": {},
     "output_type": "execute_result"
    }
   ],
   "source": [
    "let binary_increment =\n",
    "  Machine.(\n",
    "    make \"right\" [ \"carry\"; \"done\" ]\n",
    "    |> add_transition \"right\" '1' \"right\" '1' Right\n",
    "    |> add_transition \"right\" '0' \"right\" '0' Right\n",
    "    |> add_transition \"right\" ' ' \"carry\" ' ' Left\n",
    "    |> add_transition \"carry\" '1' \"carry\" '0' Left\n",
    "    |> add_transition \"carry\" '0' \"done\" '1' Left\n",
    "    |> add_transition \"carry\" ' ' \"done\" '1' Left\n",
    "  )\n"
   ]
  },
  {
   "cell_type": "markdown",
   "metadata": {
    "vscode": {
     "languageId": "ocaml"
    }
   },
   "source": [
    "Zapišite funkciji `slow_run` in `speed_run` tipa `Machine.t -> str -> unit`, ki simulirata Turingov stroj na traku, na katerem je na začetku zapisan dani niz. Prva naj izpiše trakove in stanja pri vseh vmesnih korakih, druga pa naj izpiše le končni trak. Slednjo bomo uporabljali tudi pri meritvi učinkovitosti izvajanja."
   ]
  },
  {
   "cell_type": "code",
   "execution_count": 34,
   "metadata": {
    "vscode": {
     "languageId": "ocaml"
    }
   },
   "outputs": [
    {
     "data": {
      "text/plain": [
       "val slow_run : Machine.t -> string -> unit = <fun>\n"
      ]
     },
     "execution_count": 34,
     "metadata": {},
     "output_type": "execute_result"
    }
   ],
   "source": [
    "let slow_run : Machine.t -> string -> unit =\n",
    "  fun m niz ->\n",
    "   let rec pomozna stanje trak =\n",
    "     Tape.print trak;\n",
    "     Printf.printf \"%s\\n\" stanje;\n",
    "     match Machine.step m stanje trak with\n",
    "     | Some (novo_st, nov_trak) -> pomozna novo_st nov_trak\n",
    "     | None -> ()\n",
    "   in\n",
    "   let trak = Tape.make niz in\n",
    "   pomozna (Machine.initial m) trak\n",
    "    "
   ]
  },
  {
   "cell_type": "code",
   "execution_count": 9,
   "metadata": {
    "vscode": {
     "languageId": "ocaml"
    }
   },
   "outputs": [
    {
     "name": "stdout",
     "output_type": "stream",
     "text": [
      "1011\n",
      "^\n",
      "right\n",
      "1011\n",
      " ^\n",
      "right\n",
      "1011\n",
      "  ^\n",
      "right\n",
      "1011\n",
      "   ^\n",
      "right\n",
      "1011\n",
      "    ^\n",
      "right\n",
      "1011\n",
      "   ^\n",
      "carry\n",
      "1010\n",
      "  ^\n",
      "carry\n",
      "1000\n",
      " ^\n",
      "carry\n",
      "1100\n",
      "^\n",
      "done\n"
     ]
    },
    {
     "data": {
      "text/plain": [
       "val primer_slow_run : unit = ()\n"
      ]
     },
     "execution_count": 9,
     "metadata": {},
     "output_type": "execute_result"
    }
   ],
   "source": [
    "let primer_slow_run =\n",
    "  slow_run binary_increment \"1011\""
   ]
  },
  {
   "cell_type": "code",
   "execution_count": 35,
   "metadata": {
    "vscode": {
     "languageId": "ocaml"
    }
   },
   "outputs": [
    {
     "data": {
      "text/plain": [
       "val speed_run : Machine.t -> string -> unit = <fun>\n"
      ]
     },
     "execution_count": 35,
     "metadata": {},
     "output_type": "execute_result"
    }
   ],
   "source": [
    "let speed_run: Machine.t -> string -> unit =\n",
    "fun m niz ->\n",
    "  let rec pomozna stanje trak =\n",
    "    match Machine.step m stanje trak with\n",
    "    |None -> Tape.print trak\n",
    "    |Some (novo_st, nov_trak) -> pomozna novo_st nov_trak\n",
    "  in\n",
    "  let trak = Tape.make niz in\n",
    "  pomozna (Machine.initial m) trak"
   ]
  },
  {
   "cell_type": "code",
   "execution_count": 61,
   "metadata": {
    "vscode": {
     "languageId": "ocaml"
    }
   },
   "outputs": [
    {
     "name": "stdout",
     "output_type": "stream",
     "text": [
      "1100 \n",
      "^\n"
     ]
    },
    {
     "data": {
      "text/plain": [
       "val primer_speed_run : unit = ()\n"
      ]
     },
     "execution_count": 61,
     "metadata": {},
     "output_type": "execute_result"
    }
   ],
   "source": [
    "let primer_speed_run =\n",
    "  speed_run binary_increment \"1011\""
   ]
  },
  {
   "cell_type": "markdown",
   "metadata": {},
   "source": [
    "## Krajši zapis"
   ]
  },
  {
   "cell_type": "markdown",
   "metadata": {},
   "source": [
    "Ko definiramo Turingov stroj, prehode običajno združujemo najprej po stanjih, nato pa še po znakih. Prav tako pri dosti prehodih samo premikamo glavo, trak in stanje pa pustimo pri miru. Zapišite funkcije:\n",
    "\n",
    "- `for_state`\n",
    "- `for_character`\n",
    "- `for_characters`\n",
    "- `move`\n",
    "- `switch_and_move`\n",
    "- `write_and_move`\n",
    "- `write_switch_and_move`\n",
    "\n",
    "s katerimi bi lahko zgornji primer na krajše zapisali kot spodaj. Implementacijo in tipe ugotovite sami."
   ]
  },
  {
   "cell_type": "code",
   "execution_count": 14,
   "metadata": {
    "vscode": {
     "languageId": "ocaml"
    }
   },
   "outputs": [
    {
     "data": {
      "text/plain": [
       "val for_state : 'a -> ('a -> 'b -> 'b) list -> 'b -> 'b = <fun>\n"
      ]
     },
     "execution_count": 14,
     "metadata": {},
     "output_type": "execute_result"
    },
    {
     "data": {
      "text/plain": [
       "val for_character :\n",
       "  char ->\n",
       "  (state -> char -> Machine.t -> Machine.t) ->\n",
       "  state -> Machine.t -> Machine.t = <fun>\n"
      ]
     },
     "execution_count": 14,
     "metadata": {},
     "output_type": "execute_result"
    },
    {
     "data": {
      "text/plain": [
       "val for_characters :\n",
       "  string ->\n",
       "  (state -> char -> Machine.t -> Machine.t) ->\n",
       "  state -> Machine.t -> Machine.t = <fun>\n"
      ]
     },
     "execution_count": 14,
     "metadata": {},
     "output_type": "execute_result"
    },
    {
     "data": {
      "text/plain": [
       "val move : direction -> state -> char -> Machine.t -> Machine.t = <fun>\n"
      ]
     },
     "execution_count": 14,
     "metadata": {},
     "output_type": "execute_result"
    },
    {
     "data": {
      "text/plain": [
       "val switch_and_move :\n",
       "  state -> direction -> state -> char -> Machine.t -> Machine.t = <fun>\n"
      ]
     },
     "execution_count": 14,
     "metadata": {},
     "output_type": "execute_result"
    },
    {
     "data": {
      "text/plain": [
       "val write_switch_and_move :\n",
       "  char -> state -> direction -> state -> char -> Machine.t -> Machine.t =\n",
       "  <fun>\n"
      ]
     },
     "execution_count": 14,
     "metadata": {},
     "output_type": "execute_result"
    }
   ],
   "source": [
    "let for_state stanje operacije m =\n",
    "  List.fold_left (fun acc op -> op stanje acc) m operacije\n",
    "\n",
    "\n",
    "let for_character (znak: char) (akcija: state -> char -> Machine.t -> Machine.t) =\n",
    "  fun (trenutno_stanje: state) (m: Machine.t) ->\n",
    "    akcija trenutno_stanje znak m\n",
    "\n",
    "\n",
    "let for_characters (znaki: string) (akcija: state -> char -> Machine.t -> Machine.t) =\n",
    "  fun (trenutno_stanje: state) (m: Machine.t) ->\n",
    "    String.fold_left (fun acc znak -> akcija trenutno_stanje znak acc) m znaki\n",
    "\n",
    "\n",
    "let move (smer: direction) =\n",
    "  fun (trenutno_stanje: state) (znak: char) (m: Machine.t) ->\n",
    "    Machine.add_transition trenutno_stanje znak trenutno_stanje znak smer m\n",
    "\n",
    "\n",
    "let switch_and_move (novo_stanje: state) (smer: direction) =\n",
    "  fun (trenutno_stanje: state) (znak: char) (m: Machine.t) ->\n",
    "    Machine.add_transition trenutno_stanje znak novo_stanje znak smer m\n",
    "\n",
    "\n",
    "let write_switch_and_move (nov_znak: char) (novo_stanje: state) (smer: direction) =\n",
    "  fun (trenutno_stanje: state) (znak: char) (m: Machine.t) ->\n",
    "    Machine.add_transition trenutno_stanje znak novo_stanje nov_znak smer m\n"
   ]
  },
  {
   "cell_type": "code",
   "execution_count": 15,
   "metadata": {
    "vscode": {
     "languageId": "ocaml"
    }
   },
   "outputs": [
    {
     "data": {
      "text/plain": [
       "val binary_increment' : Machine.t = <abstr>\n"
      ]
     },
     "execution_count": 15,
     "metadata": {},
     "output_type": "execute_result"
    }
   ],
   "source": [
    "let binary_increment' =\n",
    "  Machine.make \"right\" [\"carry\"; \"done\"]\n",
    "  |> for_state \"right\" [\n",
    "    for_characters \"01\" @@ move Right;\n",
    "    for_character ' ' @@ switch_and_move \"carry\" Left\n",
    "  ]\n",
    "  |> for_state \"carry\" [\n",
    "    for_character '1' @@ write_switch_and_move '0' \"carry\" Left;\n",
    "    for_characters \"0 \" @@ write_switch_and_move '1' \"done\" Left\n",
    "  ]  "
   ]
  },
  {
   "cell_type": "markdown",
   "metadata": {},
   "source": [
    "## Primeri Turingovih strojev"
   ]
  },
  {
   "cell_type": "markdown",
   "metadata": {
    "vscode": {
     "languageId": "ocaml"
    }
   },
   "source": [
    "Pri tej nalogi boste sestavljali stroje, ki bodo iz začetnega niza na traku na različne načine izračunali nov niz. Pri tem lahko predpostavite, da je začetni niz sestavljen iz ničel in enic, preostanek traku pa je prazen. Na koncu izvajanja naj bo glava na začetku novega niza, z izjemo tega niza pa naj bo trak prazen. Ni pa treba, da se izračunani niz začne na istem mestu na traku, kot se je začel prvotni niz."
   ]
  },
  {
   "cell_type": "markdown",
   "metadata": {
    "vscode": {
     "languageId": "ocaml"
    }
   },
   "source": [
    "### Obračanje niza\n"
   ]
  },
  {
   "cell_type": "markdown",
   "metadata": {},
   "source": [
    "Sestavite Turingov stroj, ki začetni niz obrne na glavo."
   ]
  },
  {
   "cell_type": "code",
   "execution_count": 17,
   "metadata": {
    "vscode": {
     "languageId": "ocaml"
    }
   },
   "outputs": [
    {
     "data": {
      "text/plain": [
       "val reverse : Machine.t = <abstr>\n"
      ]
     },
     "execution_count": 17,
     "metadata": {},
     "output_type": "execute_result"
    }
   ],
   "source": [
    "let reverse =\n",
    "  Machine.make \"desno\" [\"videl_0\"; \"videl_1\"; \"nazaj\"; \"briši\"; \"končano\"]\n",
    "  |> for_state \"desno\" [\n",
    "    for_character '0' @@ write_switch_and_move '!' \"videl_0\" Left;\n",
    "    for_character '1' @@ write_switch_and_move '!' \"videl_1\" Left;\n",
    "    for_character '!' @@ move Right;\n",
    "    for_character ' ' @@ switch_and_move \"briši\" Left;\n",
    "  ]\n",
    "  |> for_state \"videl_0\" [\n",
    "    for_characters \"01!\" @@ move Left;\n",
    "    for_character ' ' @@ write_switch_and_move '0' \"nazaj\" Right;\n",
    "  ]\n",
    "  |> for_state \"videl_1\" [\n",
    "    for_characters \"01!\" @@ move Left;\n",
    "    for_character ' ' @@ write_switch_and_move '1' \"nazaj\" Right;\n",
    "  ]\n",
    "  |> for_state \"nazaj\" [\n",
    "    for_characters \"01\" @@ move Right;\n",
    "    for_character '!' @@ switch_and_move \"desno\" Right;\n",
    "  ]\n",
    "  |> for_state \"briši\" [\n",
    "    for_character '!' @@ write_switch_and_move ' ' \"briši\" Left;\n",
    "    for_characters \"01\" @@ move Left;\n",
    "    for_character ' ' @@ switch_and_move \"končano\" Right;\n",
    "  ]"
   ]
  },
  {
   "cell_type": "code",
   "execution_count": 15,
   "metadata": {
    "vscode": {
     "languageId": "ocaml"
    }
   },
   "outputs": [
    {
     "name": "stdout",
     "output_type": "stream",
     "text": [
      "1001110000          \n",
      "^\n"
     ]
    },
    {
     "data": {
      "text/plain": [
       "val primer_reverse : unit = ()\n"
      ]
     },
     "execution_count": 15,
     "metadata": {},
     "output_type": "execute_result"
    }
   ],
   "source": [
    "let primer_reverse = speed_run reverse \"0000111001\""
   ]
  },
  {
   "cell_type": "markdown",
   "metadata": {},
   "source": [
    "### Podvajanje niza\n"
   ]
  },
  {
   "cell_type": "markdown",
   "metadata": {},
   "source": [
    "Sestavite Turingov stroj, ki podvoji začetni niz."
   ]
  },
  {
   "cell_type": "code",
   "execution_count": 18,
   "metadata": {
    "vscode": {
     "languageId": "ocaml"
    }
   },
   "outputs": [
    {
     "data": {
      "text/plain": [
       "val duplicate : Machine.t = <abstr>\n"
      ]
     },
     "execution_count": 18,
     "metadata": {},
     "output_type": "execute_result"
    }
   ],
   "source": [
    "let duplicate =\n",
    "  Machine.make \"prvi\" [\"nazaj\"; \"desno\"; \"videl_0\"; \"videl_1\"; \"podvoji_0\"; \"podvoji_1\"; \"končano\"]\n",
    "  |> for_state \"prvi\" [\n",
    "    for_characters \"01\" @@ move Right;\n",
    "    for_character ' ' @@ write_switch_and_move '!' \"nazaj\" Left;\n",
    "  ]\n",
    "  |> for_state \"nazaj\" [\n",
    "    for_characters \"01!\" @@ move Left;\n",
    "    for_character ' ' @@ switch_and_move \"desno\" Right;\n",
    "  ]\n",
    "  |> for_state \"desno\" [\n",
    "    for_character '0' @@ write_switch_and_move ' ' \"videl_0\" Right;\n",
    "    for_character '1' @@ write_switch_and_move ' ' \"videl_1\" Right;\n",
    "    for_character '!' @@ write_switch_and_move ' ' \"končano\" Right;\n",
    "  ]\n",
    "  |> for_state \"videl_0\" [\n",
    "    for_characters \"01!\" @@ move Right;\n",
    "    for_character ' ' @@ write_switch_and_move '0' \"podvoji_0\" Right;\n",
    "  ]\n",
    "  |> for_state \"videl_1\" [\n",
    "    for_characters \"01!\" @@ move Right;\n",
    "    for_character ' ' @@ write_switch_and_move '1' \"podvoji_1\" Right;\n",
    "  ]\n",
    "  |> for_state \"podvoji_0\" [\n",
    "    for_character ' ' @@ write_switch_and_move '0' \"nazaj\" Left;\n",
    "  ]\n",
    "  |> for_state \"podvoji_1\" [\n",
    "    for_character ' ' @@ write_switch_and_move '1' \"nazaj\" Left;\n",
    "  ]"
   ]
  },
  {
   "cell_type": "code",
   "execution_count": 17,
   "metadata": {
    "vscode": {
     "languageId": "ocaml"
    }
   },
   "outputs": [
    {
     "name": "stdout",
     "output_type": "stream",
     "text": [
      "001100001111       \n",
      "^\n"
     ]
    },
    {
     "data": {
      "text/plain": [
       "val primer_duplicate : unit = ()\n"
      ]
     },
     "execution_count": 17,
     "metadata": {},
     "output_type": "execute_result"
    }
   ],
   "source": [
    "let primer_duplicate = speed_run duplicate \"010011\""
   ]
  },
  {
   "cell_type": "markdown",
   "metadata": {},
   "source": [
    "### Eniški zapis\n"
   ]
  },
  {
   "cell_type": "markdown",
   "metadata": {},
   "source": [
    "Sestavite Turingov stroj, ki na začetku na traku sprejme število $n$, zapisano v dvojiškem zapisu, na koncu pa naj bo na traku zapisanih natanko $n$ enic."
   ]
  },
  {
   "cell_type": "code",
   "execution_count": 21,
   "metadata": {
    "vscode": {
     "languageId": "ocaml"
    }
   },
   "outputs": [
    {
     "data": {
      "text/plain": [
       "val to_unary : Machine.t = <abstr>\n"
      ]
     },
     "execution_count": 21,
     "metadata": {},
     "output_type": "execute_result"
    }
   ],
   "source": [
    "let to_unary = \n",
    "  Machine.make \"premakni\" [\"odštej\"; \"carry\"; \"napiši_enko\"; \"nazaj\"; \"pobriši\"; \"končano\"]\n",
    "  |> for_state \"premakni\" [\n",
    "    for_characters \"01\" @@ move Right;\n",
    "    for_character ' ' @@ write_switch_and_move '!' \"odštej\" Left;\n",
    "  ]\n",
    "  |> for_state \"odštej\" [\n",
    "    for_character '1' @@ write_switch_and_move '0' \"napiši_enko\" Right;\n",
    "    for_character '0' @@ write_switch_and_move '1' \"carry\" Left;\n",
    "  ]\n",
    "  |> for_state \"carry\" [\n",
    "    for_character '0' @@ write_switch_and_move '1' \"carry\" Left;\n",
    "    for_character '1' @@ write_switch_and_move '0' \"napiši_enko\" Right;\n",
    "    for_character ' ' @@ switch_and_move \"pobriši\" Right;\n",
    "  ]\n",
    "  |> for_state \"napiši_enko\" [\n",
    "    for_characters \"01!\" @@ move Right;\n",
    "    for_character ' ' @@ write_switch_and_move '1' \"nazaj\" Left;\n",
    "  ]\n",
    "  |> for_state \"nazaj\" [\n",
    "    for_character '1' @@ move Left;\n",
    "    for_character '!' @@ switch_and_move \"odštej\" Left;\n",
    "  ]\n",
    "  |> for_state \"pobriši\" [\n",
    "    for_character '1' @@ write_switch_and_move ' ' \"pobriši\" Right;\n",
    "    for_character '!' @@ write_switch_and_move ' ' \"končano\" Right;\n",
    "  ]"
   ]
  },
  {
   "cell_type": "code",
   "execution_count": 19,
   "metadata": {
    "vscode": {
     "languageId": "ocaml"
    }
   },
   "outputs": [
    {
     "name": "stdout",
     "output_type": "stream",
     "text": [
      "1111111111\n",
      "^\n"
     ]
    },
    {
     "data": {
      "text/plain": [
       "val primer_to_unary : unit = ()\n"
      ]
     },
     "execution_count": 19,
     "metadata": {},
     "output_type": "execute_result"
    }
   ],
   "source": [
    "let primer_to_unary = speed_run to_unary \"1010\""
   ]
  },
  {
   "cell_type": "markdown",
   "metadata": {},
   "source": [
    "### Dvojiški zapis\n"
   ]
  },
  {
   "cell_type": "markdown",
   "metadata": {},
   "source": [
    "Sestavite ravno obratni Turingov stroj, torej tak, ki na začetku na traku sprejme število $n$ enic, na koncu pa naj bo na traku zapisano število $n$ v dvojiškem zapisu."
   ]
  },
  {
   "cell_type": "code",
   "execution_count": 22,
   "metadata": {
    "vscode": {
     "languageId": "ocaml"
    }
   },
   "outputs": [
    {
     "data": {
      "text/plain": [
       "val to_binary : Machine.t = <abstr>\n"
      ]
     },
     "execution_count": 22,
     "metadata": {},
     "output_type": "execute_result"
    }
   ],
   "source": [
    "let to_binary =\n",
    "  Machine.make \"odštej\" [\"prištej_ena\"; \"nazaj\"; \"pobriši\"; \"končano\"]\n",
    "  |> for_state \"odštej\" [\n",
    "    for_character '1' @@ write_switch_and_move '!' \"prištej_ena\" Left;\n",
    "    for_character '!' @@ move Right;\n",
    "    for_character ' ' @@ switch_and_move \"pobriši\" Left;\n",
    "  ]\n",
    "  |> for_state \"prištej_ena\" [\n",
    "    for_characters \"0 \" @@ write_switch_and_move '1' \"nazaj\" Right;\n",
    "    for_character '1' @@ write_switch_and_move '0' \"prištej_ena\" Left; \n",
    "    for_character '!' @@ move Left;\n",
    "  ]\n",
    "  |> for_state \"nazaj\" [\n",
    "    for_characters \"01\" @@ move Right;\n",
    "    for_character '!' @@ switch_and_move \"odštej\" Right;\n",
    "  ]\n",
    "  |> for_state \"pobriši\" [\n",
    "    for_character '!' @@ write_switch_and_move ' ' \"pobriši\" Left;\n",
    "    for_characters \"01\" @@ move Left;\n",
    "    for_character ' ' @@ switch_and_move \"končano\" Right;\n",
    "  ]"
   ]
  },
  {
   "cell_type": "code",
   "execution_count": 21,
   "metadata": {
    "vscode": {
     "languageId": "ocaml"
    }
   },
   "outputs": [
    {
     "name": "stdout",
     "output_type": "stream",
     "text": [
      "101010                                           \n",
      "^\n"
     ]
    },
    {
     "data": {
      "text/plain": [
       "val primer_to_binary : unit = ()\n"
      ]
     },
     "execution_count": 21,
     "metadata": {},
     "output_type": "execute_result"
    }
   ],
   "source": [
    "let primer_to_binary = speed_run to_binary (String.make 42 '1')"
   ]
  }
 ],
 "metadata": {
  "kernelspec": {
   "display_name": "OCaml 4.14",
   "language": "OCaml",
   "name": "ocaml-jupyter"
  },
  "language_info": {
   "codemirror_mode": "text/x-ocaml",
   "file_extension": ".ml",
   "mimetype": "text/x-ocaml",
   "name": "OCaml",
   "nbconverter_exporter": null,
   "pygments_lexer": "OCaml",
   "version": "4.14.2"
  }
 },
 "nbformat": 4,
 "nbformat_minor": 2
}
